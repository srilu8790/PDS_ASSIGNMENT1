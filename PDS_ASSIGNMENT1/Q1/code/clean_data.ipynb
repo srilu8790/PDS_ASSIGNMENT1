{
  "nbformat": 4,
  "nbformat_minor": 0,
  "metadata": {
    "colab": {
      "provenance": []
    },
    "kernelspec": {
      "name": "python3",
      "display_name": "Python 3"
    },
    "language_info": {
      "name": "python"
    }
  },
  "cells": [
    {
      "cell_type": "code",
      "execution_count": 2,
      "metadata": {
        "id": "e0bkvk_8xM7D"
      },
      "outputs": [],
      "source": [
        "import pandas as pd\n"
      ]
    },
    {
      "cell_type": "code",
      "source": [
        "data_frame = pd.read_csv('rawdata.csv')\n",
        "print(data_frame.to_string())"
      ],
      "metadata": {
        "colab": {
          "base_uri": "https://localhost:8080/"
        },
        "id": "LCAbm0m00f_8",
        "outputId": "060f8c53-0543-4d08-8683-a6842fc1f0a6"
      },
      "execution_count": 3,
      "outputs": [
        {
          "output_type": "stream",
          "name": "stdout",
          "text": [
            "   Height  Weight  Age  Grip Strength Frailty\n",
            "0    65.8     112   30             30       N\n",
            "1    71.5     136   19             31       N\n",
            "2    69.4     153   45             29       N\n",
            "3    68.2     142   22             28       Y\n",
            "4    67.8     144   29             24       Y\n",
            "5    68.7     123   50             26       N\n",
            "6    69.8     141   51             22       Y\n",
            "7    70.1     136   23             20       Y\n",
            "8    67.9     112   17             19       N\n",
            "9    66.8     120   39             31       N\n"
          ]
        }
      ]
    },
    {
      "cell_type": "code",
      "source": [
        "data_frame.isnull().sum()"
      ],
      "metadata": {
        "colab": {
          "base_uri": "https://localhost:8080/"
        },
        "id": "BqSMFR1h0qiZ",
        "outputId": "18bb9d4e-8637-49ed-e6e5-64b63c93fe70"
      },
      "execution_count": 4,
      "outputs": [
        {
          "output_type": "execute_result",
          "data": {
            "text/plain": [
              "Height           0\n",
              "Weight           0\n",
              "Age              0\n",
              "Grip Strength    0\n",
              "Frailty          0\n",
              "dtype: int64"
            ]
          },
          "metadata": {},
          "execution_count": 4
        }
      ]
    },
    {
      "cell_type": "code",
      "source": [
        "data_frame.to_csv('frailty_clean.csv')"
      ],
      "metadata": {
        "id": "54dxnO0803He"
      },
      "execution_count": 6,
      "outputs": []
    }
  ]
}